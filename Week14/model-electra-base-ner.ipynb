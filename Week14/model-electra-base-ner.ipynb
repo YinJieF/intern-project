{
 "cells": [
  {
   "cell_type": "code",
   "execution_count": 1,
   "id": "b0ab5645-fb64-47e0-ad41-63ed74634015",
   "metadata": {
    "tags": []
   },
   "outputs": [
    {
     "name": "stdout",
     "output_type": "stream",
     "text": [
      "Requirement already satisfied: datasets in /opt/conda/lib/python3.10/site-packages (2.19.1)\n",
      "Requirement already satisfied: filelock in /opt/conda/lib/python3.10/site-packages (from datasets) (3.14.0)\n",
      "Requirement already satisfied: numpy>=1.17 in /opt/conda/lib/python3.10/site-packages (from datasets) (1.26.4)\n",
      "Requirement already satisfied: pyarrow>=12.0.0 in /opt/conda/lib/python3.10/site-packages (from datasets) (16.0.0)\n",
      "Requirement already satisfied: pyarrow-hotfix in /opt/conda/lib/python3.10/site-packages (from datasets) (0.6)\n",
      "Requirement already satisfied: dill<0.3.9,>=0.3.0 in /opt/conda/lib/python3.10/site-packages (from datasets) (0.3.8)\n",
      "Requirement already satisfied: pandas in /opt/conda/lib/python3.10/site-packages (from datasets) (2.2.2)\n",
      "Requirement already satisfied: requests>=2.19.0 in /opt/conda/lib/python3.10/site-packages (from datasets) (2.31.0)\n",
      "Requirement already satisfied: tqdm>=4.62.1 in /opt/conda/lib/python3.10/site-packages (from datasets) (4.66.2)\n",
      "Requirement already satisfied: xxhash in /opt/conda/lib/python3.10/site-packages (from datasets) (3.4.1)\n",
      "Requirement already satisfied: multiprocess in /opt/conda/lib/python3.10/site-packages (from datasets) (0.70.16)\n",
      "Requirement already satisfied: fsspec<=2024.3.1,>=2023.1.0 in /opt/conda/lib/python3.10/site-packages (from fsspec[http]<=2024.3.1,>=2023.1.0->datasets) (2024.3.1)\n",
      "Requirement already satisfied: aiohttp in /opt/conda/lib/python3.10/site-packages (from datasets) (3.9.5)\n",
      "Requirement already satisfied: huggingface-hub>=0.21.2 in /opt/conda/lib/python3.10/site-packages (from datasets) (0.23.0)\n",
      "Requirement already satisfied: packaging in /opt/conda/lib/python3.10/site-packages (from datasets) (24.0)\n",
      "Requirement already satisfied: pyyaml>=5.1 in /opt/conda/lib/python3.10/site-packages (from datasets) (6.0.1)\n",
      "Requirement already satisfied: aiosignal>=1.1.2 in /opt/conda/lib/python3.10/site-packages (from aiohttp->datasets) (1.3.1)\n",
      "Requirement already satisfied: attrs>=17.3.0 in /opt/conda/lib/python3.10/site-packages (from aiohttp->datasets) (23.2.0)\n",
      "Requirement already satisfied: frozenlist>=1.1.1 in /opt/conda/lib/python3.10/site-packages (from aiohttp->datasets) (1.4.1)\n",
      "Requirement already satisfied: multidict<7.0,>=4.5 in /opt/conda/lib/python3.10/site-packages (from aiohttp->datasets) (6.0.5)\n",
      "Requirement already satisfied: yarl<2.0,>=1.0 in /opt/conda/lib/python3.10/site-packages (from aiohttp->datasets) (1.9.4)\n",
      "Requirement already satisfied: async-timeout<5.0,>=4.0 in /opt/conda/lib/python3.10/site-packages (from aiohttp->datasets) (4.0.3)\n",
      "Requirement already satisfied: typing-extensions>=3.7.4.3 in /opt/conda/lib/python3.10/site-packages (from huggingface-hub>=0.21.2->datasets) (4.11.0)\n",
      "Requirement already satisfied: charset-normalizer<4,>=2 in /opt/conda/lib/python3.10/site-packages (from requests>=2.19.0->datasets) (3.3.2)\n",
      "Requirement already satisfied: idna<4,>=2.5 in /opt/conda/lib/python3.10/site-packages (from requests>=2.19.0->datasets) (3.7)\n",
      "Requirement already satisfied: urllib3<3,>=1.21.1 in /opt/conda/lib/python3.10/site-packages (from requests>=2.19.0->datasets) (1.26.18)\n",
      "Requirement already satisfied: certifi>=2017.4.17 in /opt/conda/lib/python3.10/site-packages (from requests>=2.19.0->datasets) (2024.2.2)\n",
      "Requirement already satisfied: python-dateutil>=2.8.2 in /opt/conda/lib/python3.10/site-packages (from pandas->datasets) (2.9.0)\n",
      "Requirement already satisfied: pytz>=2020.1 in /opt/conda/lib/python3.10/site-packages (from pandas->datasets) (2024.1)\n",
      "Requirement already satisfied: tzdata>=2022.7 in /opt/conda/lib/python3.10/site-packages (from pandas->datasets) (2024.1)\n",
      "Requirement already satisfied: six>=1.5 in /opt/conda/lib/python3.10/site-packages (from python-dateutil>=2.8.2->pandas->datasets) (1.16.0)\n",
      "Note: you may need to restart the kernel to use updated packages.\n"
     ]
    }
   ],
   "source": [
    "%pip install datasets"
   ]
  },
  {
   "cell_type": "code",
   "execution_count": 2,
   "id": "89018edb-82b5-4a4b-a3b1-2fa72b6d7a0a",
   "metadata": {
    "tags": []
   },
   "outputs": [
    {
     "name": "stderr",
     "output_type": "stream",
     "text": [
      "2024-05-21 07:12:11.417535: I external/local_tsl/tsl/cuda/cudart_stub.cc:32] Could not find cuda drivers on your machine, GPU will not be used.\n",
      "2024-05-21 07:12:11.769706: I external/local_tsl/tsl/cuda/cudart_stub.cc:32] Could not find cuda drivers on your machine, GPU will not be used.\n",
      "2024-05-21 07:12:13.089083: I tensorflow/core/platform/cpu_feature_guard.cc:210] This TensorFlow binary is optimized to use available CPU instructions in performance-critical operations.\n",
      "To enable the following instructions: AVX2 FMA, in other operations, rebuild TensorFlow with the appropriate compiler flags.\n"
     ]
    }
   ],
   "source": [
    "import os\n",
    "\n",
    "os.environ[\"KERAS_BACKEND\"] = \"tensorflow\"\n",
    "\n",
    "import os\n",
    "import keras\n",
    "import numpy as np\n",
    "import tensorflow as tf\n",
    "from tqdm import tqdm\n",
    "from keras import layers\n",
    "from collections import defaultdict\n",
    "from google.cloud import bigquery\n",
    "import pickle"
   ]
  },
  {
   "cell_type": "code",
   "execution_count": 9,
   "id": "f6d71f45-8614-433b-b6ae-ef7eb57b9f9a",
   "metadata": {
    "tags": []
   },
   "outputs": [],
   "source": [
    "PROJECT_ID, DATASET_ID, TABLE_ID = \"intern-project-415606\", \"Criminal_Dataset\", \"criminal_data_electra\"\n",
    "bigquery_client = bigquery.Client(project=PROJECT_ID)"
   ]
  },
  {
   "cell_type": "code",
   "execution_count": 10,
   "id": "717b0c14-86fd-4a81-bc8f-485f0b0b677f",
   "metadata": {
    "tags": []
   },
   "outputs": [],
   "source": [
    "# read the (original) data from the bigquery\n",
    "def read_bq(project_id, dataset_id, table_id):\n",
    "\n",
    "    query = f\"\"\"\n",
    "        SELECT *\n",
    "        FROM {project_id}.{dataset_id}.{table_id}\n",
    "    \"\"\"\n",
    "\n",
    "    query_job = bigquery_client.query(query)\n",
    "\n",
    "    # Convert the result into a Pandas DataFrame\n",
    "    df = query_job.to_dataframe()\n",
    "\n",
    "    return df"
   ]
  },
  {
   "cell_type": "code",
   "execution_count": 13,
   "id": "b43a11ee-bf9a-4df0-8b30-649be096cc56",
   "metadata": {
    "tags": []
   },
   "outputs": [
    {
     "data": {
      "text/html": [
       "<div>\n",
       "<style scoped>\n",
       "    .dataframe tbody tr th:only-of-type {\n",
       "        vertical-align: middle;\n",
       "    }\n",
       "\n",
       "    .dataframe tbody tr th {\n",
       "        vertical-align: top;\n",
       "    }\n",
       "\n",
       "    .dataframe thead th {\n",
       "        text-align: right;\n",
       "    }\n",
       "</style>\n",
       "<table border=\"1\" class=\"dataframe\">\n",
       "  <thead>\n",
       "    <tr style=\"text-align: right;\">\n",
       "      <th></th>\n",
       "      <th>extract_id</th>\n",
       "      <th>text</th>\n",
       "      <th>ner_label</th>\n",
       "      <th>sequence</th>\n",
       "    </tr>\n",
       "  </thead>\n",
       "  <tbody>\n",
       "    <tr>\n",
       "      <th>0</th>\n",
       "      <td>4377</td>\n",
       "      <td>L</td>\n",
       "      <td>other</td>\n",
       "      <td>352</td>\n",
       "    </tr>\n",
       "    <tr>\n",
       "      <th>1</th>\n",
       "      <td>33225</td>\n",
       "      <td>gian</td>\n",
       "      <td>other</td>\n",
       "      <td>1690</td>\n",
       "    </tr>\n",
       "    <tr>\n",
       "      <th>2</th>\n",
       "      <td>17747</td>\n",
       "      <td>vi</td>\n",
       "      <td>other</td>\n",
       "      <td>5738</td>\n",
       "    </tr>\n",
       "    <tr>\n",
       "      <th>3</th>\n",
       "      <td>17747</td>\n",
       "      <td>có</td>\n",
       "      <td>other</td>\n",
       "      <td>15784</td>\n",
       "    </tr>\n",
       "    <tr>\n",
       "      <th>4</th>\n",
       "      <td>17750</td>\n",
       "      <td>vẫn</td>\n",
       "      <td>other</td>\n",
       "      <td>1861</td>\n",
       "    </tr>\n",
       "  </tbody>\n",
       "</table>\n",
       "</div>"
      ],
      "text/plain": [
       "   extract_id  text ner_label  sequence\n",
       "0        4377     L     other       352\n",
       "1       33225  gian     other      1690\n",
       "2       17747    vi     other      5738\n",
       "3       17747    có     other     15784\n",
       "4       17750   vẫn     other      1861"
      ]
     },
     "execution_count": 13,
     "metadata": {},
     "output_type": "execute_result"
    }
   ],
   "source": [
    "dataset = read_bq(PROJECT_ID, DATASET_ID, TABLE_ID)\n",
    "dataset.head()"
   ]
  },
  {
   "cell_type": "code",
   "execution_count": 3,
   "id": "095ca07d-e3f6-403e-8689-101ed8618328",
   "metadata": {
    "tags": []
   },
   "outputs": [],
   "source": [
    "class TransformerBlock(layers.Layer):\n",
    "    def __init__(self, embed_dim, num_heads, ff_dim, rate=0.1):\n",
    "        super().__init__()\n",
    "        self.att = keras.layers.MultiHeadAttention(\n",
    "            num_heads=num_heads, key_dim=embed_dim\n",
    "        )\n",
    "        self.ffn = keras.Sequential(\n",
    "            [\n",
    "                keras.layers.Dense(ff_dim, activation=\"relu\"),\n",
    "                keras.layers.Dense(embed_dim),\n",
    "            ]\n",
    "        )\n",
    "        self.layernorm1 = keras.layers.LayerNormalization(epsilon=1e-6)\n",
    "        self.layernorm2 = keras.layers.LayerNormalization(epsilon=1e-6)\n",
    "        self.dropout1 = keras.layers.Dropout(rate)\n",
    "        self.dropout2 = keras.layers.Dropout(rate)\n",
    "\n",
    "    def call(self, inputs, training=False):\n",
    "        attn_output = self.att(inputs, inputs)\n",
    "        attn_output = self.dropout1(attn_output, training=training)\n",
    "        out1 = self.layernorm1(inputs + attn_output)\n",
    "        ffn_output = self.ffn(out1)\n",
    "        ffn_output = self.dropout2(ffn_output, training=training)\n",
    "        return self.layernorm2(out1 + ffn_output)\n"
   ]
  },
  {
   "cell_type": "code",
   "execution_count": 4,
   "id": "2724cd31-899e-42f0-bb1c-e05d4deaed0b",
   "metadata": {
    "tags": []
   },
   "outputs": [],
   "source": [
    "class TokenAndPositionEmbedding(layers.Layer):\n",
    "    def __init__(self, maxlen, vocab_size, embed_dim):\n",
    "        super().__init__()\n",
    "        self.token_emb = keras.layers.Embedding(\n",
    "            input_dim=vocab_size, output_dim=embed_dim\n",
    "        )\n",
    "        self.pos_emb = keras.layers.Embedding(input_dim=maxlen, output_dim=embed_dim)\n",
    "\n",
    "    def call(self, inputs):\n",
    "        maxlen = tf.shape(inputs)[-1]\n",
    "        positions = tf.range(start=0, limit=maxlen, delta=1)\n",
    "        position_embeddings = self.pos_emb(positions)\n",
    "        token_embeddings = self.token_emb(inputs)\n",
    "        return token_embeddings + position_embeddings"
   ]
  },
  {
   "cell_type": "code",
   "execution_count": 13,
   "id": "7b12c9fd-636f-40f3-9755-4ee49a6487c8",
   "metadata": {
    "tags": []
   },
   "outputs": [
    {
     "data": {
      "text/html": [
       "<div>\n",
       "<style scoped>\n",
       "    .dataframe tbody tr th:only-of-type {\n",
       "        vertical-align: middle;\n",
       "    }\n",
       "\n",
       "    .dataframe tbody tr th {\n",
       "        vertical-align: top;\n",
       "    }\n",
       "\n",
       "    .dataframe thead th {\n",
       "        text-align: right;\n",
       "    }\n",
       "</style>\n",
       "<table border=\"1\" class=\"dataframe\">\n",
       "  <thead>\n",
       "    <tr style=\"text-align: right;\">\n",
       "      <th></th>\n",
       "      <th>extract_id</th>\n",
       "      <th>text</th>\n",
       "      <th>ner_label</th>\n",
       "      <th>sequence</th>\n",
       "    </tr>\n",
       "  </thead>\n",
       "  <tbody>\n",
       "    <tr>\n",
       "      <th>0</th>\n",
       "      <td>597</td>\n",
       "      <td>&lt;Page:1&gt;TÒA</td>\n",
       "      <td>other</td>\n",
       "      <td>1</td>\n",
       "    </tr>\n",
       "    <tr>\n",
       "      <th>1</th>\n",
       "      <td>597</td>\n",
       "      <td>HÒA</td>\n",
       "      <td>other</td>\n",
       "      <td>6</td>\n",
       "    </tr>\n",
       "    <tr>\n",
       "      <th>2</th>\n",
       "      <td>597</td>\n",
       "      <td>XÃ</td>\n",
       "      <td>other</td>\n",
       "      <td>7</td>\n",
       "    </tr>\n",
       "    <tr>\n",
       "      <th>3</th>\n",
       "      <td>597</td>\n",
       "      <td>ạ</td>\n",
       "      <td>other</td>\n",
       "      <td>22</td>\n",
       "    </tr>\n",
       "    <tr>\n",
       "      <th>4</th>\n",
       "      <td>597</td>\n",
       "      <td>VIỆT</td>\n",
       "      <td>other</td>\n",
       "      <td>43</td>\n",
       "    </tr>\n",
       "    <tr>\n",
       "      <th>...</th>\n",
       "      <td>...</td>\n",
       "      <td>...</td>\n",
       "      <td>...</td>\n",
       "      <td>...</td>\n",
       "    </tr>\n",
       "    <tr>\n",
       "      <th>6542005</th>\n",
       "      <td>1666</td>\n",
       "      <td>Phú</td>\n",
       "      <td>other</td>\n",
       "      <td>2604</td>\n",
       "    </tr>\n",
       "    <tr>\n",
       "      <th>6542006</th>\n",
       "      <td>1666</td>\n",
       "      <td>-</td>\n",
       "      <td>I-ORGANIZATION</td>\n",
       "      <td>2606</td>\n",
       "    </tr>\n",
       "    <tr>\n",
       "      <th>6542007</th>\n",
       "      <td>1666</td>\n",
       "      <td>Phú</td>\n",
       "      <td>other</td>\n",
       "      <td>2611</td>\n",
       "    </tr>\n",
       "    <tr>\n",
       "      <th>6542008</th>\n",
       "      <td>1666</td>\n",
       "      <td>Những</td>\n",
       "      <td>other</td>\n",
       "      <td>2627</td>\n",
       "    </tr>\n",
       "    <tr>\n",
       "      <th>6542009</th>\n",
       "      <td>1666</td>\n",
       "      <td>tham</td>\n",
       "      <td>other</td>\n",
       "      <td>2629</td>\n",
       "    </tr>\n",
       "  </tbody>\n",
       "</table>\n",
       "<p>6542010 rows × 4 columns</p>\n",
       "</div>"
      ],
      "text/plain": [
       "         extract_id         text       ner_label  sequence\n",
       "0               597  <Page:1>TÒA           other         1\n",
       "1               597          HÒA           other         6\n",
       "2               597           XÃ           other         7\n",
       "3               597            ạ           other        22\n",
       "4               597         VIỆT           other        43\n",
       "...             ...          ...             ...       ...\n",
       "6542005        1666          Phú           other      2604\n",
       "6542006        1666            -  I-ORGANIZATION      2606\n",
       "6542007        1666          Phú           other      2611\n",
       "6542008        1666        Những           other      2627\n",
       "6542009        1666         tham           other      2629\n",
       "\n",
       "[6542010 rows x 4 columns]"
      ]
     },
     "execution_count": 13,
     "metadata": {},
     "output_type": "execute_result"
    }
   ],
   "source": [
    "dataset"
   ]
  },
  {
   "cell_type": "code",
   "execution_count": 5,
   "id": "b5348cf3-4d48-4f19-a0a8-a265e262977f",
   "metadata": {
    "tags": []
   },
   "outputs": [
    {
     "data": {
      "text/plain": [
       "{'[PAD]': 0,\n",
       " 'other': 1,\n",
       " 'I-ORGANIZATION': 2,\n",
       " 'B-LOCATION': 3,\n",
       " 'I-LOCATION': 4,\n",
       " 'B-ORGANIZATION': 5,\n",
       " 'B-PERSON': 6,\n",
       " 'I-PERSON': 7,\n",
       " 'B-MISCELLANEOUS': 8,\n",
       " 'I-MISCELLANEOUS': 9}"
      ]
     },
     "execution_count": 5,
     "metadata": {},
     "output_type": "execute_result"
    }
   ],
   "source": [
    "#mapping\n",
    "label_map = {'[PAD]': 0,\n",
    "            'other': 1,\n",
    "            'I-ORGANIZATION': 2,\n",
    "            'B-LOCATION': 3,\n",
    "            'I-LOCATION': 4,\n",
    "            'B-ORGANIZATION': 5,\n",
    "            'B-PERSON': 6,\n",
    "            'I-PERSON': 7,\n",
    "            'B-MISCELLANEOUS': 8,\n",
    "            'I-MISCELLANEOUS': 9}\n",
    "label_map"
   ]
  },
  {
   "cell_type": "code",
   "execution_count": 15,
   "id": "414c556c-782b-4e6b-be80-70e8d25df3b5",
   "metadata": {
    "tags": []
   },
   "outputs": [
    {
     "data": {
      "text/html": [
       "<div>\n",
       "<style scoped>\n",
       "    .dataframe tbody tr th:only-of-type {\n",
       "        vertical-align: middle;\n",
       "    }\n",
       "\n",
       "    .dataframe tbody tr th {\n",
       "        vertical-align: top;\n",
       "    }\n",
       "\n",
       "    .dataframe thead th {\n",
       "        text-align: right;\n",
       "    }\n",
       "</style>\n",
       "<table border=\"1\" class=\"dataframe\">\n",
       "  <thead>\n",
       "    <tr style=\"text-align: right;\">\n",
       "      <th></th>\n",
       "      <th>extract_id</th>\n",
       "      <th>text</th>\n",
       "      <th>ner_label</th>\n",
       "      <th>sequence</th>\n",
       "    </tr>\n",
       "  </thead>\n",
       "  <tbody>\n",
       "    <tr>\n",
       "      <th>0</th>\n",
       "      <td>4377</td>\n",
       "      <td>L</td>\n",
       "      <td>1</td>\n",
       "      <td>352</td>\n",
       "    </tr>\n",
       "    <tr>\n",
       "      <th>1</th>\n",
       "      <td>33225</td>\n",
       "      <td>gian</td>\n",
       "      <td>1</td>\n",
       "      <td>1690</td>\n",
       "    </tr>\n",
       "    <tr>\n",
       "      <th>2</th>\n",
       "      <td>17747</td>\n",
       "      <td>vi</td>\n",
       "      <td>1</td>\n",
       "      <td>5738</td>\n",
       "    </tr>\n",
       "    <tr>\n",
       "      <th>3</th>\n",
       "      <td>17747</td>\n",
       "      <td>có</td>\n",
       "      <td>1</td>\n",
       "      <td>15784</td>\n",
       "    </tr>\n",
       "    <tr>\n",
       "      <th>4</th>\n",
       "      <td>17750</td>\n",
       "      <td>vẫn</td>\n",
       "      <td>1</td>\n",
       "      <td>1861</td>\n",
       "    </tr>\n",
       "    <tr>\n",
       "      <th>...</th>\n",
       "      <td>...</td>\n",
       "      <td>...</td>\n",
       "      <td>...</td>\n",
       "      <td>...</td>\n",
       "    </tr>\n",
       "    <tr>\n",
       "      <th>145463480</th>\n",
       "      <td>2244</td>\n",
       "      <td>nhận</td>\n",
       "      <td>1</td>\n",
       "      <td>1023</td>\n",
       "    </tr>\n",
       "    <tr>\n",
       "      <th>145463481</th>\n",
       "      <td>3837</td>\n",
       "      <td>nguyện</td>\n",
       "      <td>1</td>\n",
       "      <td>1972</td>\n",
       "    </tr>\n",
       "    <tr>\n",
       "      <th>145463482</th>\n",
       "      <td>794</td>\n",
       "      <td>án:</td>\n",
       "      <td>1</td>\n",
       "      <td>2021</td>\n",
       "    </tr>\n",
       "    <tr>\n",
       "      <th>145463483</th>\n",
       "      <td>823</td>\n",
       "      <td>Trung</td>\n",
       "      <td>1</td>\n",
       "      <td>514</td>\n",
       "    </tr>\n",
       "    <tr>\n",
       "      <th>145463484</th>\n",
       "      <td>858</td>\n",
       "      <td>nhiều</td>\n",
       "      <td>1</td>\n",
       "      <td>681</td>\n",
       "    </tr>\n",
       "  </tbody>\n",
       "</table>\n",
       "<p>145463485 rows × 4 columns</p>\n",
       "</div>"
      ],
      "text/plain": [
       "           extract_id    text ner_label  sequence\n",
       "0                4377       L         1       352\n",
       "1               33225    gian         1      1690\n",
       "2               17747      vi         1      5738\n",
       "3               17747      có         1     15784\n",
       "4               17750     vẫn         1      1861\n",
       "...               ...     ...       ...       ...\n",
       "145463480        2244    nhận         1      1023\n",
       "145463481        3837  nguyện         1      1972\n",
       "145463482         794     án:         1      2021\n",
       "145463483         823   Trung         1       514\n",
       "145463484         858   nhiều         1       681\n",
       "\n",
       "[145463485 rows x 4 columns]"
      ]
     },
     "execution_count": 15,
     "metadata": {},
     "output_type": "execute_result"
    }
   ],
   "source": [
    "# Replace numeric labels with NER labels\n",
    "dataset.loc[:, 'ner_label'] = dataset['ner_label'].map(label_map)\n",
    "\n",
    "dataset"
   ]
  },
  {
   "cell_type": "code",
   "execution_count": null,
   "id": "c449a3a2-af57-4ee1-972c-b8ec36b84340",
   "metadata": {},
   "outputs": [],
   "source": [
    "dataset['ner_label'].value_counts()"
   ]
  },
  {
   "cell_type": "code",
   "execution_count": 9,
   "id": "c2c1b7b5-96ed-49af-a86a-6ccff7d6d58d",
   "metadata": {
    "tags": []
   },
   "outputs": [
    {
     "data": {
      "text/html": [
       "<div>\n",
       "<style scoped>\n",
       "    .dataframe tbody tr th:only-of-type {\n",
       "        vertical-align: middle;\n",
       "    }\n",
       "\n",
       "    .dataframe tbody tr th {\n",
       "        vertical-align: top;\n",
       "    }\n",
       "\n",
       "    .dataframe thead th {\n",
       "        text-align: right;\n",
       "    }\n",
       "</style>\n",
       "<table border=\"1\" class=\"dataframe\">\n",
       "  <thead>\n",
       "    <tr style=\"text-align: right;\">\n",
       "      <th></th>\n",
       "      <th>extract_id</th>\n",
       "      <th>sequence</th>\n",
       "    </tr>\n",
       "  </thead>\n",
       "  <tbody>\n",
       "    <tr>\n",
       "      <th>count</th>\n",
       "      <td>145463485.0</td>\n",
       "      <td>145463485.0</td>\n",
       "    </tr>\n",
       "    <tr>\n",
       "      <th>mean</th>\n",
       "      <td>18336.425521</td>\n",
       "      <td>2870.563136</td>\n",
       "    </tr>\n",
       "    <tr>\n",
       "      <th>std</th>\n",
       "      <td>10567.953637</td>\n",
       "      <td>3279.298332</td>\n",
       "    </tr>\n",
       "    <tr>\n",
       "      <th>min</th>\n",
       "      <td>0.0</td>\n",
       "      <td>1.0</td>\n",
       "    </tr>\n",
       "    <tr>\n",
       "      <th>25%</th>\n",
       "      <td>9172.0</td>\n",
       "      <td>996.0</td>\n",
       "    </tr>\n",
       "    <tr>\n",
       "      <th>50%</th>\n",
       "      <td>18409.0</td>\n",
       "      <td>2046.0</td>\n",
       "    </tr>\n",
       "    <tr>\n",
       "      <th>75%</th>\n",
       "      <td>27466.0</td>\n",
       "      <td>3573.0</td>\n",
       "    </tr>\n",
       "    <tr>\n",
       "      <th>max</th>\n",
       "      <td>36549.0</td>\n",
       "      <td>44559.0</td>\n",
       "    </tr>\n",
       "  </tbody>\n",
       "</table>\n",
       "</div>"
      ],
      "text/plain": [
       "         extract_id     sequence\n",
       "count   145463485.0  145463485.0\n",
       "mean   18336.425521  2870.563136\n",
       "std    10567.953637  3279.298332\n",
       "min             0.0          1.0\n",
       "25%          9172.0        996.0\n",
       "50%         18409.0       2046.0\n",
       "75%         27466.0       3573.0\n",
       "max         36549.0      44559.0"
      ]
     },
     "execution_count": 9,
     "metadata": {},
     "output_type": "execute_result"
    }
   ],
   "source": [
    "dataset.describe()"
   ]
  },
  {
   "cell_type": "code",
   "execution_count": 16,
   "id": "ce0172bd-a1c0-4cf2-987e-bc76e31f4cfe",
   "metadata": {
    "tags": []
   },
   "outputs": [
    {
     "name": "stdout",
     "output_type": "stream",
     "text": [
      "Group ID: 1\n",
      "Token: 3391\n",
      "NER Tag: 3391\n",
      "seq: 3391\n"
     ]
    }
   ],
   "source": [
    "agg_func = lambda x: list(x)\n",
    "# Grouping the dataset by 'extract_id' and aggregating the 'text' and 'self_label' columns into lists\n",
    "grouped_data = dataset.sort_values(['extract_id', 'sequence']).groupby('extract_id').agg({'text': agg_func, 'ner_label': agg_func, 'sequence': agg_func}).reset_index()\n",
    "# Converting the grouped data into a dictionary\n",
    "dataset_group = {\n",
    "    'id': grouped_data['extract_id'].tolist(),\n",
    "    'token': grouped_data['text'].tolist(),\n",
    "    'ner_label': grouped_data['ner_label'].tolist(),\n",
    "    'seq': grouped_data['sequence'].tolist()\n",
    "}\n",
    "\n",
    "# Printing the first group for verification\n",
    "print('Group ID:', dataset_group['id'][1])\n",
    "print('Token:', len(dataset_group['token'][1]))\n",
    "print('NER Tag:',len(dataset_group['ner_label'][1]))\n",
    "print('seq:', len(dataset_group['seq'][1]))"
   ]
  },
  {
   "cell_type": "code",
   "execution_count": 17,
   "id": "9ad7bf03-27b1-4d1b-9f19-be4c55b72e5c",
   "metadata": {
    "tags": []
   },
   "outputs": [
    {
     "name": "stdout",
     "output_type": "stream",
     "text": [
      "Group ID: 0\n",
      "Token: ['<Page:1>TÒA', 'ÁN', 'NHÂN', 'DÂN', 'CỘNG', 'HÒA', 'XÃ', 'HỘI', 'CHỦ', 'NGHĨA', 'VIỆT', 'NAM', 'HUYỆN', 'ANH', 'SƠN', 'Độc', 'lập', '–', 'Tự', 'do', '–', 'Hạnh', 'phúc', 'TỈNH', 'NGHỆ', 'AN', 'Số:', '17/QĐ', '–', 'TA', 'Anh', 'Sơn,', 'ngày', '18', 'tháng', '5', 'năm', '2021', 'QUYẾT', 'ĐỊNH', 'Áp', 'dụng', 'biện', 'pháp', 'xử', 'lý', 'hành', 'chính', 'đưa', 'và', 'cơ', 'sở', 'cai', 'nghiện', 'bắt', 'buộc', 'TÒA', 'ÁN', 'NHÂN', 'DÂN', 'HUYỆN', 'ANH', 'SƠN,', 'TỈNH', 'NGHỆ', 'AN', 'Với', 'thành', 'phần', 'tiến', 'hành', 'phiên', 'họp', 'gồm', 'có:', '1.', 'Thẩm', 'phán:', 'Ông', 'Phan', 'Văn', 'Phú', '2.', 'Thư', 'ký', 'phiên', 'họp:', 'Ông', 'Phạm', 'Mạnh', 'Cường', 'Ngày', '18', 'tháng', '5', 'năm', '2021,', 'tại', 'trụ', 'sở', 'Tòa', 'án', 'nhân', 'dân', 'huyện', 'A,', 'tỉnh', 'N', 'tiến', 'hành', 'phiên', 'họp', 'xem', 'xét,', 'quyết', 'định', 'áp', 'dụng', 'biện', 'pháp', 'xử', 'lý', 'hành', 'chính', 'đưa', 'vào', 'cơ', 'sở', 'cai', 'nghiện', 'bắt', 'buộc', 'theo', 'Quyết', 'định', 'mở', 'phiên', 'họp', 'số', '17/QĐ', '–', 'TA', 'ngày', '12', 'tháng', '5', 'năm', '2021', 'đối', 'với:', 'Họ', 'và', 'tên:', 'Nguyễn', 'Văn', 'C', '–', 'Giới', 'tính:', 'Nam', 'Sinh', 'ngày:', '25/01/1994', 'Dân', 'tộc:', 'Kinh;', 'Tôn', 'giáo:', 'Thiên', 'chúa', 'giáo;', 'Trình', 'độ', 'văn', 'hóa:', '9/12', 'Nơi', 'cư', 'trú:', 'thôn', '12,', 'xã', 'T,', 'huyện', 'A,', 'tỉnh', 'N', 'Nghề', 'nghiệp:', 'Lao', 'động', 'tự', 'do', 'Tiền', 'án,', 'tiền', 'sự:', 'Không', 'Con', 'ông:', 'Nguyễn', 'Văn', 'Trung;', 'con', 'bà:', 'Nguyễn', 'Thị', 'Hà.', 'Có', 'mặt', 'tại', 'phiên', 'họp', 'Có', 'sự', 'tham', 'gia', 'của:', '1.', 'Đại', 'diện', 'cơ', 'quan', 'đề', 'nghị:', 'Ông', 'Nguyễn', 'Quốc', 'Hoàn', '–', 'Chức', 'vụ:', 'Phó', 'trưởng', 'phòng', 'Lao', 'động-', 'Thương', 'binh', 'và', 'xã', 'hội', 'huyện', 'A.', '2.', 'Đại', 'diện', 'Viện', 'kiểm', 'sát', 'nhân', 'dân', 'huyện', 'A', 'tham', 'gia', 'phiên', 'họp:', 'Ông', 'Phan', 'Hiếu', 'Thảo', '–', 'Kiểm', 'sát', 'viên', 'NHẬN', 'THẤY', 'Ngày', '25', 'tháng', '12', 'năm', '2020,', 'chủ', 'tịch', 'Ủy', 'ban', 'nhân', 'dân', 'xã', 'T,', 'huyện', 'A,', 'tỉnh', 'N', 'ra', 'Quyết', 'định', 'áp', 'dụng', 'biện', 'pháp', 'giáo', 'dục', 'tại', 'địa', 'phương', 'do', 'hành', 'vi', 'sử', 'dụng', 'chất', 'ma', 'túy', 'với', 'thời', 'hạn', '03(Ba)', 'tháng', 'kể', 'từ', 'ngày', '25/12/2010', 'đến', 'ngày', '25/3/2021', 'đối', 'với', 'Nguyễn', 'Văn', 'C.', 'Tuy', 'nhiên,', 'ngày', '24/02/2021', 'Nguyễn', 'Văn', 'C', 'tiếp', 'tục', 'sử', 'dụng', 'chất', 'ma', 'túy', 'do', 'vẫn', 'còn', 'nghiện,', 'cùng', 'ngày', '24/02/2021', 'Ban', 'Công', 'an', 'xã', 'T', 'đã', 'phối', 'hợp', 'với', 'Trạm', 'y', 'tế', 'xã', 'T,', 'huyện', 'A,', 'tỉnh', 'N', 'tiến', 'hành', 'kiểm', 'tra', 'chất', 'ma', 'túy', 'trong', 'cơ', 'thể', 'Nguyễn', 'Văn', 'C.', 'Kết', 'quả', 'kiểm', 'tra', 'Nguyễn', 'Văn', 'C', '(+)', 'dương', 'tính', 'với', 'chất', 'ma', 'túy.', 'Căn', 'cứ', 'vào', 'hành', 'vi', 'và', 'kết', 'quả', 'xét', 'nghiệm', 'chất', 'ma', 'túy', 'trong', 'cơ', 'thể', 'của', 'Nguyễn', 'Văn', 'C.', 'Ban', 'Công', 'an', 'xã', 'T', 'phối', 'hợp', 'với', 'Công', 'an', 'huyện', 'A,', 'Phòng', 'Lao', 'động', '–', 'Thương', 'binh', 'và', 'xã', 'hội', 'huyện', 'A', 'đã', 'lập', 'hồ', 'sơ', 'đề', 'nghị', 'áp', 'dụng', 'biện', 'pháp', 'xử', 'lý', 'hành', 'chính', 'đưa', 'vào', 'cơ', 'sở', 'cai', 'nghiện', 'bắt', 'buộc', 'đối', 'với', 'Nguyễn', 'Văn', 'C.', 'Ngày', '27', 'tháng', '4', 'năm', '2021,', 'Phòng', 'Lao', 'động', '–', 'Thương', 'binh', 'và', 'Xã', 'hội', 'huyện', 'A,', 'tỉnh', 'N', 'đã', 'ban', 'hành', 'văn', 'bản', 'đề', 'nghị', 'Tòa', 'án', 'nhân', 'dân', 'huyện', 'A,', 'tỉnh', 'N', 'xem', 'xét,', '1<Page:2>quyết', 'định', 'áp', 'dụng', 'biện', 'pháp', 'xử', 'lý', 'hành', 'chính', 'đưa', 'vào', 'cơ', 'sở', 'cai', 'nghiện', 'bắt']\n",
      "NER Tag: [1, 1, 2, 2, 1, 1, 1, 1, 1, 1, 1, 1, 1, 1, 1, 1, 1, 1, 1, 1, 1, 1, 1, 3, 4, 4, 1, 1, 1, 1, 3, 4, 1, 1, 1, 1, 1, 1, 1, 1, 1, 1, 1, 1, 1, 1, 1, 1, 1, 1, 1, 1, 1, 1, 1, 1, 5, 2, 2, 2, 2, 2, 2, 3, 4, 4, 1, 1, 1, 1, 1, 1, 1, 1, 1, 1, 1, 1, 1, 6, 7, 7, 1, 1, 1, 1, 1, 1, 6, 7, 7, 1, 1, 1, 1, 1, 1, 1, 1, 1, 5, 2, 2, 2, 2, 2, 3, 4, 1, 1, 1, 1, 1, 1, 1, 1, 1, 1, 1, 1, 1, 1, 1, 1, 1, 1, 1, 1, 1, 1, 1, 1, 1, 1, 1, 1, 1, 1, 1, 1, 1, 1, 1, 1, 1, 1, 1, 1, 1, 1, 1, 1, 1, 6, 7, 7, 1, 1, 1, 1, 1, 1, 1, 1, 1, 1, 1, 1, 5, 2, 2, 1, 1, 1, 1, 1, 1, 1, 1, 3, 4, 3, 4, 3, 4, 3, 4, 1, 1, 1, 1, 1, 1, 1, 1, 1, 1, 1, 1, 1, 6, 7, 7, 1, 1, 6, 7, 7, 1, 1, 1, 1, 1, 1, 1, 1, 1, 1, 1, 1, 1, 1, 1, 1, 1, 1, 6, 7, 7, 1, 1, 1, 1, 1, 5, 2, 2, 2, 2, 2, 2, 2, 2, 2, 1, 1, 1, 5, 2, 2, 2, 2, 2, 2, 1, 1, 1, 1, 1, 1, 1, 1, 1, 1, 1, 1, 1, 1, 1, 1, 1, 1, 1, 1, 1, 1, 1, 1, 1, 1, 1, 1, 1, 1, 1, 1, 1, 1, 1, 1, 1, 1, 1, 1, 1, 1, 1, 1, 1, 1, 1, 1, 1, 1, 1, 1, 1, 1, 1, 1, 1, 1, 1, 1, 1, 1, 1, 1, 1, 1, 1, 1, 1, 1, 1, 1, 1, 1, 1, 1, 1, 1, 1, 1, 1, 1, 1, 1, 1, 1, 1, 1, 1, 1, 1, 1, 1, 1, 1, 1, 1, 1, 1, 1, 1, 1, 1, 2, 1, 1, 1, 1, 1, 1, 1, 1, 1, 1, 1, 1, 1, 1, 1, 1, 1, 1, 1, 1, 1, 1, 1, 1, 1, 1, 1, 1, 1, 1, 1, 1, 1, 1, 1, 1, 1, 1, 1, 1, 1, 1, 1, 1, 1, 1, 1, 1, 1, 1, 1, 1, 1, 1, 1, 1, 1, 1, 1, 1, 1, 1, 1, 1, 1, 1, 1, 1, 1, 1, 1, 1, 1, 1, 1, 1, 1, 1, 1, 1, 1, 1, 1, 1, 1, 1, 1, 1, 1, 1, 1, 1, 1, 1, 1, 1, 1, 1, 1, 1, 1, 1, 1, 1, 1, 1, 1, 1, 1, 1, 1, 1, 1, 1, 1, 1, 1, 1, 1, 1, 1, 1, 1, 1, 1, 1, 1, 1, 1, 1, 1, 1, 2, 1, 1, 1, 1, 1, 1, 1, 1, 1, 1, 1, 1, 1, 1, 1, 1, 1, 1, 1, 1, 1]\n"
     ]
    }
   ],
   "source": [
    "def split_into_chunks(lst, chunk_size):\n",
    "    \"\"\"Splits a list into smaller chunks of a specified size.\"\"\"\n",
    "    for i in range(0, len(lst), chunk_size):\n",
    "        yield lst[i:i + chunk_size]\n",
    "\n",
    "# Initialize a new dataset dictionary\n",
    "split_dataset = {\n",
    "    'id': [],\n",
    "    'token': [],\n",
    "    'ner_label': []\n",
    "}\n",
    "\n",
    "# Iterate over each group in the original grouped dataset\n",
    "for idx, (group_id, tokens, labels) in enumerate(zip(dataset_group['id'], dataset_group['token'], dataset_group['ner_label'])):\n",
    "    # Split tokens and labels into chunks of 512\n",
    "    token_chunks = list(split_into_chunks(tokens, 512))\n",
    "    label_chunks = list(split_into_chunks(labels, 512))\n",
    "\n",
    "    # Add each chunk to the new dataset dictionary\n",
    "    for chunk_idx in range(len(token_chunks)):\n",
    "        split_dataset['id'].append(group_id)  # Keep the same group_id for each chunk\n",
    "        split_dataset['token'].append(token_chunks[chunk_idx])\n",
    "        split_dataset['ner_label'].append(label_chunks[chunk_idx])\n",
    "\n",
    "# Print the first chunk for verification\n",
    "print('Group ID:', split_dataset['id'][0])\n",
    "print('Token:', split_dataset['token'][0])\n",
    "print('NER Tag:', split_dataset['ner_label'][0])\n"
   ]
  },
  {
   "cell_type": "code",
   "execution_count": 10,
   "id": "4a1e3e55-94da-49a6-b1d6-ddf36506fc84",
   "metadata": {
    "tags": []
   },
   "outputs": [
    {
     "name": "stdout",
     "output_type": "stream",
     "text": [
      "Average length: 3979.8491108071134\n",
      "Highest length: 44559\n",
      "Average length of each sublist: 3979.8491108071134\n",
      "Median for sublist lengths: 3322.0\n",
      "Maximum length of each sublist: 44559\n",
      "Percentage of data less than length of 5000: 78.78522571819425\n"
     ]
    },
    {
     "data": {
      "image/png": "[encoded data removed]",
      "text/plain": [
       "<Figure size 1000x600 with 1 Axes>"
      ]
     },
     "metadata": {},
     "output_type": "display_data"
    }
   ],
   "source": [
    "import numpy as np\n",
    "import matplotlib.pyplot as plt\n",
    "\n",
    "# Calculate average length and highest length of token lists in dataset_group\n",
    "total_length, highest_length = 0, 0\n",
    "for token_list in dataset_group['token']:\n",
    "    # Calculate the length of the current token list\n",
    "    length = len(token_list)\n",
    "\n",
    "    # Update total length\n",
    "    total_length += length\n",
    "\n",
    "    # Update highest length if necessary\n",
    "    if length > highest_length:\n",
    "        highest_length = length\n",
    "\n",
    "# Calculate average length\n",
    "if dataset_group['token']:\n",
    "    average_length = total_length / len(dataset_group['token'])\n",
    "else:\n",
    "    average_length = 0\n",
    "\n",
    "print(\"Average length:\", average_length)\n",
    "print(\"Highest length:\", highest_length)\n",
    "\n",
    "# Plotting percentile distribution of token list lengths\n",
    "lengths = [len(sublist) for sublist in dataset_group['token']]\n",
    "percentiles = np.arange(0, 101, 5)\n",
    "percentile_values = np.percentile(lengths, percentiles)\n",
    "avg_lengths = np.mean(lengths)\n",
    "quartiles = np.percentile(lengths, [25, 50, 75])\n",
    "max_lengths = max(lengths)\n",
    "percentage_less_than_5000 = np.mean(np.array(lengths) <= 5000) * 100\n",
    "\n",
    "print(\"Average length of each sublist:\", avg_lengths)\n",
    "print(\"Median for sublist lengths:\", quartiles[1])\n",
    "print(\"Maximum length of each sublist:\", max_lengths)\n",
    "print(\"Percentage of data less than length of 5000:\", percentage_less_than_5000)\n",
    "\n",
    "plt.figure(figsize=(10, 6))\n",
    "plt.axhline(y=avg_lengths, color='b', linestyle='-', label='Average Length')\n",
    "plt.axhline(y=quartiles[1], color='m', linestyle='-', label='Median')\n",
    "plt.axhline(y=percentile_values[-2], color='r', linestyle='-', label='95% of data')\n",
    "plt.axhline(y=5000, color='g', linestyle='--', label='Length of 5000')  # Added line for length 256\n",
    "plt.plot(percentiles, percentile_values, marker='o', linestyle='-')\n",
    "plt.xlabel('Percentile')\n",
    "plt.ylabel('Length')\n",
    "plt.title('Percentile Distribution of Token List Lengths')\n",
    "plt.grid(True)\n",
    "plt.legend()\n",
    "plt.show()\n"
   ]
  },
  {
   "cell_type": "code",
   "execution_count": 18,
   "id": "3f1bb61c-662f-4970-b9ab-13a48b0269ce",
   "metadata": {
    "tags": []
   },
   "outputs": [
    {
     "name": "stdout",
     "output_type": "stream",
     "text": [
      "Average length: 481.2385160238066\n",
      "Highest length: 512\n",
      "Average length of each sublist: 481.2385160238066\n",
      "Median for sublist lengths: 512.0\n",
      "Maximum length of each sublist: 512\n",
      "Percentage of data less than length of 5000: 100.0\n"
     ]
    },
    {
     "data": {
      "image/png": "[encoded data removed]",
      "text/plain": [
       "<Figure size 1000x600 with 1 Axes>"
      ]
     },
     "metadata": {},
     "output_type": "display_data"
    }
   ],
   "source": [
    "import numpy as np\n",
    "import matplotlib.pyplot as plt\n",
    "\n",
    "# Calculate average length and highest length of token lists in dataset_group\n",
    "total_length, highest_length = 0, 0\n",
    "for token_list in split_dataset['token']:\n",
    "    # Calculate the length of the current token list\n",
    "    length = len(token_list)\n",
    "\n",
    "    # Update total length\n",
    "    total_length += length\n",
    "\n",
    "    # Update highest length if necessary\n",
    "    if length > highest_length:\n",
    "        highest_length = length\n",
    "\n",
    "# Calculate average length\n",
    "if dataset_group['token']:\n",
    "    average_length = total_length / len(split_dataset['token'])\n",
    "else:\n",
    "    average_length = 0\n",
    "\n",
    "print(\"Average length:\", average_length)\n",
    "print(\"Highest length:\", highest_length)\n",
    "\n",
    "# Plotting percentile distribution of token list lengths\n",
    "lengths = [len(sublist) for sublist in split_dataset['token']]\n",
    "percentiles = np.arange(0, 101, 5)\n",
    "percentile_values = np.percentile(lengths, percentiles)\n",
    "avg_lengths = np.mean(lengths)\n",
    "quartiles = np.percentile(lengths, [25, 50, 75])\n",
    "max_lengths = max(lengths)\n",
    "percentage_less_than_5000 = np.mean(np.array(lengths) <= 5000) * 100\n",
    "\n",
    "print(\"Average length of each sublist:\", avg_lengths)\n",
    "print(\"Median for sublist lengths:\", quartiles[1])\n",
    "print(\"Maximum length of each sublist:\", max_lengths)\n",
    "print(\"Percentage of data less than length of 5000:\", percentage_less_than_5000)\n",
    "\n",
    "plt.figure(figsize=(10, 6))\n",
    "plt.axhline(y=avg_lengths, color='b', linestyle='-', label='Average Length')\n",
    "plt.axhline(y=quartiles[1], color='m', linestyle='-', label='Median')\n",
    "plt.axhline(y=percentile_values[-2], color='r', linestyle='-', label='95% of data')\n",
    "plt.axhline(y=5000, color='g', linestyle='--', label='Length of 5000')  # Added line for length 256\n",
    "plt.plot(percentiles, percentile_values, marker='o', linestyle='-')\n",
    "plt.xlabel('Percentile')\n",
    "plt.ylabel('Length')\n",
    "plt.title('Percentile Distribution of Token List Lengths')\n",
    "plt.grid(True)\n",
    "plt.legend()\n",
    "plt.show()"
   ]
  },
  {
   "cell_type": "code",
   "execution_count": 19,
   "id": "88e6d1d9-d6c8-4c4b-a900-7350f4b1cedd",
   "metadata": {
    "tags": []
   },
   "outputs": [],
   "source": [
    "dataset_group = split_dataset"
   ]
  },
  {
   "cell_type": "code",
   "execution_count": 15,
   "id": "c9c89048-4e67-4772-b3fd-74c84ddeaf15",
   "metadata": {
    "tags": []
   },
   "outputs": [
    {
     "name": "stdout",
     "output_type": "stream",
     "text": [
      "Number of remaining entries before filtering: 302269\n",
      "Number of remaining entries after filtering: 302269\n"
     ]
    }
   ],
   "source": [
    "# drop the data > 5000\n",
    "print(\"Number of remaining entries before filtering:\", len(dataset_group['id']))\n",
    "# Create empty lists to store filtered data\n",
    "filtered_ids = []\n",
    "filtered_tokens = []\n",
    "filtered_self_tags = []\n",
    "\n",
    "# Iterate through the token lists and their corresponding ids and self_tags\n",
    "for id, token_list, self_tag_list in zip(dataset_group['id'], dataset_group['token'], dataset_group['ner_label']):\n",
    "    # Check if the length of the token list is less than or equal to 1024\n",
    "    if len(token_list) <= 5000:\n",
    "        # If the length is within the limit, append the id, token list, and self tag list to the filtered lists\n",
    "        filtered_ids.append(id)\n",
    "        filtered_tokens.append(token_list)\n",
    "        filtered_self_tags.append(self_tag_list)\n",
    "\n",
    "# Update the dataset_group dictionary with the filtered lists\n",
    "dataset_group['id'] = filtered_ids\n",
    "dataset_group['token'] = filtered_tokens\n",
    "dataset_group['ner_label'] = filtered_self_tags\n",
    "\n",
    "# Print the lengths after filtering\n",
    "print(\"Number of remaining entries after filtering:\", len(dataset_group['id']))\n"
   ]
  },
  {
   "cell_type": "code",
   "execution_count": 20,
   "id": "4277c470-e449-4db2-ac10-7e64d7cd851a",
   "metadata": {
    "tags": []
   },
   "outputs": [
    {
     "name": "stdout",
     "output_type": "stream",
     "text": [
      "DatasetDict({\n",
      "    train: Dataset({\n",
      "        features: ['id', 'token', 'ner_label', '__index_level_0__'],\n",
      "        num_rows: 241815\n",
      "    })\n",
      "    test: Dataset({\n",
      "        features: ['id', 'token', 'ner_label', '__index_level_0__'],\n",
      "        num_rows: 60454\n",
      "    })\n",
      "})\n"
     ]
    }
   ],
   "source": [
    "from sklearn.model_selection import train_test_split\n",
    "\n",
    "from datasets import Dataset, DatasetDict\n",
    "\n",
    "# Assuming dataset_group is already constructed as in your previous code\n",
    "\n",
    "# Convert dataset_group to a DataFrame\n",
    "import pandas as pd\n",
    "dataset_df = pd.DataFrame(dataset_group)\n",
    "\n",
    "# Split data into train and test sets\n",
    "train_df, test_df = train_test_split(dataset_df, test_size=0.2, random_state=42)\n",
    "\n",
    "# Create train and test datasets\n",
    "train_dataset = Dataset.from_pandas(train_df)\n",
    "test_dataset = Dataset.from_pandas(test_df)\n",
    "\n",
    "# Construct DatasetDict\n",
    "dataset_dict = DatasetDict({'train': train_dataset, 'test': test_dataset})\n",
    "\n",
    "# Print DatasetDict\n",
    "print(dataset_dict)"
   ]
  },
  {
   "cell_type": "code",
   "execution_count": 25,
   "id": "8aad6ab6-2f6b-42df-9bad-1f65fbb9514d",
   "metadata": {
    "tags": []
   },
   "outputs": [
    {
     "name": "stdout",
     "output_type": "stream",
     "text": [
      "<class 'int'>\n"
     ]
    }
   ],
   "source": [
    "print(type(dataset_dict['train']['ner_label'][0][0]))"
   ]
  },
  {
   "cell_type": "code",
   "execution_count": 17,
   "id": "ed334ea9-aed4-4e7b-8aa5-306d27fc147c",
   "metadata": {
    "tags": []
   },
   "outputs": [
    {
     "name": "stdout",
     "output_type": "stream",
     "text": [
      "directory exist\n"
     ]
    }
   ],
   "source": [
    "def export_to_file(export_file_path, data):\n",
    "    with open(export_file_path, \"w\") as f:\n",
    "        for record in data:\n",
    "            ner_tags = record[\"ner_label\"]\n",
    "            tokens = record[\"token\"]\n",
    "            if len(tokens) > 0:\n",
    "                f.write(\n",
    "                    str(len(tokens))\n",
    "                    + \"\\t\"\n",
    "                    + \"\\t\".join(tokens)\n",
    "                    + \"\\t\"\n",
    "                    + \"\\t\".join(map(str, ner_tags))\n",
    "                    + \"\\n\"\n",
    "                )\n",
    "try:\n",
    "    os.mkdir('./data')\n",
    "except:\n",
    "    print('directory exist')\n",
    "export_to_file(\"./data/crime_train.txt\", dataset_dict['train'])\n",
    "export_to_file(\"./data/crime_val.txt\", dataset_dict['test'])"
   ]
  },
  {
   "cell_type": "code",
   "execution_count": 6,
   "id": "134b879f-8f39-4169-bf4a-a143b9fff036",
   "metadata": {
    "tags": []
   },
   "outputs": [
    {
     "name": "stdout",
     "output_type": "stream",
     "text": [
      "{0: '[PAD]', 1: 'other', 2: 'I-ORGANIZATION', 3: 'B-LOCATION', 4: 'I-LOCATION', 5: 'B-ORGANIZATION', 6: 'B-PERSON', 7: 'I-PERSON', 8: 'B-MISCELLANEOUS', 9: 'I-MISCELLANEOUS'}\n"
     ]
    }
   ],
   "source": [
    "def make_tag_lookup_table():\n",
    "    ner_labels = {'[PAD]': 0,\n",
    "                  'other': 1,\n",
    "                  'I-ORGANIZATION': 2,\n",
    "                  'B-LOCATION': 3,\n",
    "                  'I-LOCATION': 4,\n",
    "                  'B-ORGANIZATION': 5,\n",
    "                  'B-PERSON': 6,\n",
    "                  'I-PERSON': 7,\n",
    "                  'B-MISCELLANEOUS': 8,\n",
    "                  'I-MISCELLANEOUS': 9}\n",
    "    return dict(zip(range(len(ner_labels)), ner_labels))\n",
    "\n",
    "mapping = make_tag_lookup_table()\n",
    "print(mapping)"
   ]
  },
  {
   "cell_type": "code",
   "execution_count": 19,
   "id": "5cabd93d-1efe-4cd3-8154-3f09e6b0c001",
   "metadata": {
    "tags": []
   },
   "outputs": [
    {
     "name": "stdout",
     "output_type": "stream",
     "text": [
      "116394994\n"
     ]
    }
   ],
   "source": [
    "s = 0\n",
    "for d in dataset_dict['train']['token']:\n",
    "    s += len(d)\n",
    "print(s)"
   ]
  },
  {
   "cell_type": "code",
   "execution_count": null,
   "id": "8c24febc-95e0-4c48-8cc7-fe12fe02b5f9",
   "metadata": {
    "tags": []
   },
   "outputs": [
    {
     "name": "stdout",
     "output_type": "stream",
     "text": [
      "543449\n"
     ]
    }
   ],
   "source": [
    "def generate_tokens(dataset):\n",
    "    for tokens in dataset:\n",
    "        for token in tokens:\n",
    "            yield token\n",
    "\n",
    "def count_tokens(token_generator):\n",
    "    token_counter = defaultdict(int)\n",
    "    for token in token_generator:\n",
    "        token_counter[token] += 1\n",
    "    return token_counter\n",
    "\n",
    "token_generator = generate_tokens(dataset_dict[\"train\"][\"token\"])\n",
    "counter = count_tokens(token_generator)\n",
    "\n",
    "print(len(counter))\n",
    "\n",
    "num_tags = len(mapping)\n",
    "vocab_size = 460000\n",
    "\n",
    "# Sort the items in the defaultdict by value (count), in descending order\n",
    "sorted_items = sorted(counter.items(), key=lambda item: item[1], reverse=True)\n",
    "\n",
    "# Take the (vocab_size - 2) most common tokens\n",
    "vocabulary = [token for token, count in sorted_items[:vocab_size - 2]]\n",
    "\n",
    "# Save the list to a file\n",
    "with open('./data/vocabulary.pkl', 'wb') as f:\n",
    "    pickle.dump(vocabulary, f)\n",
    "\n",
    "# The StringLookup class will convert tokens to token IDs\n",
    "lookup_layer = keras.layers.StringLookup(vocabulary=vocabulary)"
   ]
  },
  {
   "cell_type": "code",
   "execution_count": 7,
   "id": "4132e3fc-64d6-4efc-9452-fbef8841df7f",
   "metadata": {
    "tags": []
   },
   "outputs": [],
   "source": [
    "with open('./data/vocabulary.pkl', 'rb') as f:\n",
    "    loaded_list = pickle.load(f)\n",
    "    # The StringLookup class will convert tokens to token IDs\n",
    "lookup_layer = keras.layers.StringLookup(vocabulary=loaded_list)"
   ]
  },
  {
   "cell_type": "code",
   "execution_count": 8,
   "id": "d9c027ce-ab66-474f-b9e9-7d427a4a778b",
   "metadata": {},
   "outputs": [],
   "source": [
    "train_data = tf.data.TextLineDataset(\"./data/crime_train.txt\")\n",
    "val_data = tf.data.TextLineDataset(\"./data/crime_val.txt\")"
   ]
  },
  {
   "cell_type": "code",
   "execution_count": null,
   "id": "c9ecdcf7-97a3-475a-ac06-b3412064b5bf",
   "metadata": {
    "tags": []
   },
   "outputs": [],
   "source": [
    "#print(list(train_data.take(1).as_numpy_iterator()))"
   ]
  },
  {
   "cell_type": "code",
   "execution_count": 9,
   "id": "f5e2ee6f-6a8e-48c0-b904-9a52e16e47a0",
   "metadata": {
    "tags": []
   },
   "outputs": [],
   "source": [
    "@keras.utils.register_keras_serializable(package='CustomModels')\n",
    "class NERModel(keras.Model):\n",
    "    def __init__(\n",
    "        self, num_tags, vocab_size, maxlen=512, embed_dim=256, num_heads=2, ff_dim=32, **kwargs\n",
    "    ):\n",
    "        super().__init__()\n",
    "        self.num_tags = num_tags\n",
    "        self.vocab_size = vocab_size\n",
    "        self.maxlen = maxlen\n",
    "        self.embed_dim = embed_dim\n",
    "        self.num_heads = num_heads\n",
    "        self.ff_dim = ff_dim\n",
    "\n",
    "        self.embedding_layer = TokenAndPositionEmbedding(maxlen, vocab_size, embed_dim)\n",
    "        self.transformer_block = TransformerBlock(embed_dim, num_heads, ff_dim)\n",
    "        self.dropout1 = layers.Dropout(0.1)\n",
    "        self.ff = layers.Dense(ff_dim, activation=\"relu\")\n",
    "        self.dropout2 = layers.Dropout(0.1)\n",
    "        self.ff_final = layers.Dense(num_tags, activation=\"softmax\")\n",
    "\n",
    "    def call(self, inputs, training=False):\n",
    "        x = self.embedding_layer(inputs)\n",
    "        x = self.transformer_block(x)\n",
    "        x = self.dropout1(x, training=training)\n",
    "        x = self.ff(x)\n",
    "        x = self.dropout2(x, training=training)\n",
    "        x = self.ff_final(x)\n",
    "        return x\n",
    "\n",
    "    def get_config(self):\n",
    "        config = {\n",
    "            'num_tags': self.num_tags,\n",
    "            'vocab_size': self.vocab_size,\n",
    "            'maxlen': self.maxlen,\n",
    "            'embed_dim': self.embed_dim,\n",
    "            'num_heads': self.num_heads,\n",
    "            'ff_dim': self.ff_dim,\n",
    "        }\n",
    "        base_config = super(NERModel, self).get_config()\n",
    "        return dict(list(base_config.items()) + list(config.items()))"
   ]
  },
  {
   "cell_type": "code",
   "execution_count": 16,
   "id": "c94c6bbf-b0ff-4606-ab31-2d6a3a2c9443",
   "metadata": {
    "tags": []
   },
   "outputs": [],
   "source": [
    "def map_record_to_training_data(record):\n",
    "    record = tf.strings.split(record, sep=\"\\t\")\n",
    "    length = tf.strings.to_number(record[0], out_type=tf.int32)\n",
    "    tokens = record[1 : length + 1]\n",
    "    tags = record[length + 1 :]\n",
    "    tags = tf.strings.to_number(tags, out_type=tf.int64)\n",
    "    \n",
    "    return tokens, tags\n",
    "\n",
    "\n",
    "def convert_to_ids(tokens):\n",
    "    return lookup_layer(tokens)\n",
    "\n",
    "# We use `padded_batch` here because each record in the dataset has a\n",
    "# different length.\n",
    "batch_size = 64\n",
    "\n",
    "train_dataset = (\n",
    "    train_data.map(map_record_to_training_data)\n",
    "    .map(lambda x, y: (lookup_layer(x), y))\n",
    "    .padded_batch(batch_size)\n",
    ")\n",
    "val_dataset = (\n",
    "    val_data.map(map_record_to_training_data)\n",
    "    .map(lambda x, y: (lookup_layer(x), y))\n",
    "    .padded_batch(batch_size)\n",
    ")\n",
    "num_tags = len(mapping)\n",
    "vocab_size = 500000\n",
    "ner_model = NERModel(num_tags, vocab_size, embed_dim=256, num_heads=4, ff_dim=64)"
   ]
  },
  {
   "cell_type": "code",
   "execution_count": 17,
   "id": "7b8e0172-ed27-4412-9d4b-fe1b49faa0b8",
   "metadata": {
    "tags": []
   },
   "outputs": [
    {
     "name": "stdout",
     "output_type": "stream",
     "text": [
      "tf.Tensor(\n",
      "[[  1746   2064   1776 ...    266    218    584]\n",
      " [   356    741     60 ...     53      7      1]\n",
      " [    15   1601   5894 ...    240 163024    221]\n",
      " ...\n",
      " [   933    383    279 ...  29248     67     74]\n",
      " [   334    234     15 ...     60     66    737]\n",
      " [ 20481     15     67 ...    217     58     28]], shape=(64, 512), dtype=int64)\n",
      "512\n"
     ]
    }
   ],
   "source": [
    "for a, b in train_dataset:\n",
    "    print(a)\n",
    "    print(len(b[0]))\n",
    "    break"
   ]
  },
  {
   "cell_type": "code",
   "execution_count": 18,
   "id": "45bac7de-283f-48e8-ab0d-9cb5a4f68906",
   "metadata": {
    "tags": []
   },
   "outputs": [],
   "source": [
    "from tensorflow.keras.losses import Reduction\n",
    "\n",
    "class CustomNonPaddingTokenLoss(keras.losses.Loss):\n",
    "    def __init__(self, reduction='sum', name=\"custom_ner_loss\"):\n",
    "        super().__init__(reduction=reduction, name=name)\n",
    "\n",
    "    def call(self, y_true, y_pred):\n",
    "        loss_fn = keras.losses.SparseCategoricalCrossentropy(\n",
    "            from_logits=False, reduction=self.reduction  # Pass the reduction argument here\n",
    "        )\n",
    "        loss = loss_fn(y_true, y_pred)\n",
    "        mask = tf.cast((y_true > 0), dtype=tf.float32)\n",
    "        loss = loss * mask\n",
    "        return tf.reduce_sum(loss) / tf.reduce_sum(mask)\n",
    "\n",
    "loss = CustomNonPaddingTokenLoss()\n"
   ]
  },
  {
   "cell_type": "code",
   "execution_count": null,
   "id": "f9f2792f-cbc9-4a93-82fc-d179c3331ec0",
   "metadata": {
    "tags": []
   },
   "outputs": [
    {
     "name": "stdout",
     "output_type": "stream",
     "text": [
      "Epoch 1/10\n",
      "   1978/Unknown \u001b[1m6981s\u001b[0m 4s/step - loss: 6210.0649"
     ]
    }
   ],
   "source": [
    "from keras.losses import SparseCategoricalCrossentropy\n",
    "\n",
    "# Compile the model with a specified loss function and optimizer\n",
    "ner_model.compile(optimizer=\"adam\", loss=loss)\n",
    "ner_model.fit(train_dataset, epochs=10)"
   ]
  },
  {
   "cell_type": "code",
   "execution_count": null,
   "id": "b5012f56-7c6b-45ae-b0f4-4fda67b65d61",
   "metadata": {},
   "outputs": [],
   "source": [
    "ner_model.save(\"ner_model_electra.keras\")"
   ]
  },
  {
   "cell_type": "code",
   "execution_count": null,
   "id": "592a60c2-330c-46f7-991a-8ecaf1ed5ed3",
   "metadata": {},
   "outputs": [],
   "source": []
  }
 ],
 "metadata": {
  "environment": {
   "kernel": "conda-base-py",
   "name": "workbench-notebooks.m120",
   "type": "gcloud",
   "uri": "us-docker.pkg.dev/deeplearning-platform-release/gcr.io/workbench-notebooks:m120"
  },
  "kernelspec": {
   "display_name": "Python 3 (ipykernel) (Local)",
   "language": "python",
   "name": "conda-base-py"
  },
  "language_info": {
   "codemirror_mode": {
    "name": "ipython",
    "version": 3
   },
   "file_extension": ".py",
   "mimetype": "text/x-python",
   "name": "python",
   "nbconvert_exporter": "python",
   "pygments_lexer": "ipython3",
   "version": "3.10.14"
  }
 },
 "nbformat": 4,
 "nbformat_minor": 5
}
